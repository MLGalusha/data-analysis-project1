{
 "cells": [
  {
   "cell_type": "code",
   "execution_count": 1,
   "metadata": {},
   "outputs": [],
   "source": [
    "import pandas as pd\n",
    "from dotenv import load_dotenv\n",
    "import os\n",
    "import time\n",
    "import json\n",
    "import requests\n",
    "import matplotlib.pyplot as plt"
   ]
  },
  {
   "cell_type": "code",
   "execution_count": 2,
   "metadata": {},
   "outputs": [],
   "source": [
    "# Get the fred api key\n",
    "load_dotenv(\"keys.env\")\n",
    "fred_api_key = os.getenv(\"FRED_API_KEY\")"
   ]
  },
  {
   "cell_type": "markdown",
   "metadata": {},
   "source": [
    "# Retrieve FRED Data\n",
    "### Federal Reserve Economic Data (FRED)\n",
    "##### Maintained by Federal Reserve Bank of St. Louis "
   ]
  },
  {
   "cell_type": "code",
   "execution_count": 3,
   "metadata": {},
   "outputs": [],
   "source": [
    "# Store FRED data in a dictionary\n",
    "df_dict = {\"income\": \"NCPCPI\", \"house\": \"NCSTHPI\", \"minimum_wage\": \"STTMINWGNC\", \"cpi\": \"CUUR0000SEHA\", \"mortgage\": \"MORTGAGE30US\", \"population\": \"NCPOP\"}\n",
    "\n",
    "for key, value in df_dict.items():\n",
    "    try:\n",
    "        data = requests.get(f\"https://api.stlouisfed.org/fred/series/observations?series_id={value}&api_key={fred_api_key}&file_type=json\").json()\n",
    "        df = pd.DataFrame(data['observations'])\n",
    "        df_dict[key] = df\n",
    "    except:\n",
    "        print(f\"Problem getting data for {key}: {value}\")\n"
   ]
  },
  {
   "cell_type": "code",
   "execution_count": 4,
   "metadata": {},
   "outputs": [
    {
     "name": "stdout",
     "output_type": "stream",
     "text": [
      "<class 'pandas.core.frame.DataFrame'>\n",
      "RangeIndex: 1316 entries, 0 to 1315\n",
      "Data columns (total 4 columns):\n",
      " #   Column          Non-Null Count  Dtype \n",
      "---  ------          --------------  ----- \n",
      " 0   realtime_start  1316 non-null   object\n",
      " 1   realtime_end    1316 non-null   object\n",
      " 2   date            1316 non-null   object\n",
      " 3   value           1316 non-null   object\n",
      "dtypes: object(4)\n",
      "memory usage: 41.3+ KB\n"
     ]
    },
    {
     "data": {
      "text/plain": [
       "realtime_start    0\n",
       "realtime_end      0\n",
       "date              0\n",
       "value             0\n",
       "dtype: int64"
      ]
     },
     "execution_count": 4,
     "metadata": {},
     "output_type": "execute_result"
    }
   ],
   "source": [
    "df = df_dict['cpi']\n",
    "df.head()\n",
    "df.info()\n",
    "df.isnull().sum()\n",
    "# df['value'] = df['value'].astype(float)\n",
    "# df['date'] = df['date'].astype('datetime64[ns]')\n",
    "# df.head()\n",
    "# df.info()"
   ]
  },
  {
   "cell_type": "markdown",
   "metadata": {},
   "source": [
    "# Clean up Data from FRED\n",
    "## Store the data as csv files in data folder"
   ]
  },
  {
   "cell_type": "code",
   "execution_count": 5,
   "metadata": {},
   "outputs": [],
   "source": [
    "# Read the CSV files, and store dataframes. Some clean up as well.\n",
    "def percent_change_column(df):\n",
    "    \"\"\"Create a column that shows how much the value has changed overtime\"\"\"\n",
    "    df['changed'] = (df['value'].pct_change() * 100).cumsum().fillna(0)\n",
    "    return df\n",
    "\n",
    "def locate_year_df(df):\n",
    "    \"\"\"Take a df and return the dataframe within the year 1980-2023\"\"\"\n",
    "    df = df.loc[(df['date'] >= \"1980-01-01\") & (df['date'] <= \"2023-12-31\")].reset_index(drop=True)\n",
    "    return df\n",
    "\n",
    "def conversion_date_value(df):\n",
    "    \"\"\"Convert the columns date to datetime and value to float\"\"\"\n",
    "    conversions = {\n",
    "    'date': 'datetime64[ns]',\n",
    "    'value': float\n",
    "    }\n",
    "\n",
    "    # Drop any rows where the value column is non numeric\n",
    "    df['value'] = pd.to_numeric(df['value'], errors='coerce')\n",
    "    df = df.drop(columns=['realtime_start', 'realtime_end']).astype(conversions)\n",
    "    return df\n",
    "\n",
    "# Clean the data and store them as a csv file in the data folder.\n",
    "data_dict = {}\n",
    "for key, value in df_dict.items():\n",
    "    df_key = f\"{key}_df\"\n",
    "    try:\n",
    "        data_dict[(df_key)] = percent_change_column(locate_year_df(conversion_date_value(value)))\n",
    "        # S\n",
    "        value.to_csv(f\"data/{key}.csv\")\n",
    "    except:\n",
    "        print(f\"Error with {key} dataset.\")\n",
    "\n",
    "unemployment_rate_df = pd.read_csv('data/UnemploymentRate.csv').set_index(['Year', 'Month'], drop=True)\n"
   ]
  },
  {
   "cell_type": "markdown",
   "metadata": {},
   "source": [
    "# Display FRED Data"
   ]
  },
  {
   "cell_type": "code",
   "execution_count": 6,
   "metadata": {},
   "outputs": [
    {
     "name": "stdout",
     "output_type": "stream",
     "text": [
      "income df\n"
     ]
    },
    {
     "data": {
      "text/html": [
       "<div>\n",
       "<style scoped>\n",
       "    .dataframe tbody tr th:only-of-type {\n",
       "        vertical-align: middle;\n",
       "    }\n",
       "\n",
       "    .dataframe tbody tr th {\n",
       "        vertical-align: top;\n",
       "    }\n",
       "\n",
       "    .dataframe thead th {\n",
       "        text-align: right;\n",
       "    }\n",
       "</style>\n",
       "<table border=\"1\" class=\"dataframe\">\n",
       "  <thead>\n",
       "    <tr style=\"text-align: right;\">\n",
       "      <th></th>\n",
       "      <th>date</th>\n",
       "      <th>value</th>\n",
       "      <th>changed</th>\n",
       "    </tr>\n",
       "  </thead>\n",
       "  <tbody>\n",
       "    <tr>\n",
       "      <th>0</th>\n",
       "      <td>1980-01-01</td>\n",
       "      <td>8350.0</td>\n",
       "      <td>0.000000</td>\n",
       "    </tr>\n",
       "    <tr>\n",
       "      <th>1</th>\n",
       "      <td>1981-01-01</td>\n",
       "      <td>9309.0</td>\n",
       "      <td>11.485030</td>\n",
       "    </tr>\n",
       "    <tr>\n",
       "      <th>42</th>\n",
       "      <td>2022-01-01</td>\n",
       "      <td>58125.0</td>\n",
       "      <td>200.484844</td>\n",
       "    </tr>\n",
       "    <tr>\n",
       "      <th>43</th>\n",
       "      <td>2023-01-01</td>\n",
       "      <td>60484.0</td>\n",
       "      <td>204.543339</td>\n",
       "    </tr>\n",
       "  </tbody>\n",
       "</table>\n",
       "</div>"
      ],
      "text/plain": [
       "         date    value     changed\n",
       "0  1980-01-01   8350.0    0.000000\n",
       "1  1981-01-01   9309.0   11.485030\n",
       "42 2022-01-01  58125.0  200.484844\n",
       "43 2023-01-01  60484.0  204.543339"
      ]
     },
     "metadata": {},
     "output_type": "display_data"
    },
    {
     "name": "stdout",
     "output_type": "stream",
     "text": [
      "house df\n"
     ]
    },
    {
     "data": {
      "text/html": [
       "<div>\n",
       "<style scoped>\n",
       "    .dataframe tbody tr th:only-of-type {\n",
       "        vertical-align: middle;\n",
       "    }\n",
       "\n",
       "    .dataframe tbody tr th {\n",
       "        vertical-align: top;\n",
       "    }\n",
       "\n",
       "    .dataframe thead th {\n",
       "        text-align: right;\n",
       "    }\n",
       "</style>\n",
       "<table border=\"1\" class=\"dataframe\">\n",
       "  <thead>\n",
       "    <tr style=\"text-align: right;\">\n",
       "      <th></th>\n",
       "      <th>date</th>\n",
       "      <th>value</th>\n",
       "      <th>changed</th>\n",
       "    </tr>\n",
       "  </thead>\n",
       "  <tbody>\n",
       "    <tr>\n",
       "      <th>0</th>\n",
       "      <td>1980-01-01</td>\n",
       "      <td>100.00</td>\n",
       "      <td>0.000000</td>\n",
       "    </tr>\n",
       "    <tr>\n",
       "      <th>1</th>\n",
       "      <td>1980-04-01</td>\n",
       "      <td>98.91</td>\n",
       "      <td>-1.090000</td>\n",
       "    </tr>\n",
       "    <tr>\n",
       "      <th>174</th>\n",
       "      <td>2023-07-01</td>\n",
       "      <td>650.12</td>\n",
       "      <td>189.850435</td>\n",
       "    </tr>\n",
       "    <tr>\n",
       "      <th>175</th>\n",
       "      <td>2023-10-01</td>\n",
       "      <td>649.30</td>\n",
       "      <td>189.724304</td>\n",
       "    </tr>\n",
       "  </tbody>\n",
       "</table>\n",
       "</div>"
      ],
      "text/plain": [
       "          date   value     changed\n",
       "0   1980-01-01  100.00    0.000000\n",
       "1   1980-04-01   98.91   -1.090000\n",
       "174 2023-07-01  650.12  189.850435\n",
       "175 2023-10-01  649.30  189.724304"
      ]
     },
     "metadata": {},
     "output_type": "display_data"
    },
    {
     "name": "stdout",
     "output_type": "stream",
     "text": [
      "minimum wage df\n"
     ]
    },
    {
     "data": {
      "text/html": [
       "<div>\n",
       "<style scoped>\n",
       "    .dataframe tbody tr th:only-of-type {\n",
       "        vertical-align: middle;\n",
       "    }\n",
       "\n",
       "    .dataframe tbody tr th {\n",
       "        vertical-align: top;\n",
       "    }\n",
       "\n",
       "    .dataframe thead th {\n",
       "        text-align: right;\n",
       "    }\n",
       "</style>\n",
       "<table border=\"1\" class=\"dataframe\">\n",
       "  <thead>\n",
       "    <tr style=\"text-align: right;\">\n",
       "      <th></th>\n",
       "      <th>date</th>\n",
       "      <th>value</th>\n",
       "      <th>changed</th>\n",
       "    </tr>\n",
       "  </thead>\n",
       "  <tbody>\n",
       "    <tr>\n",
       "      <th>0</th>\n",
       "      <td>1980-01-01</td>\n",
       "      <td>2.75</td>\n",
       "      <td>0.000000</td>\n",
       "    </tr>\n",
       "    <tr>\n",
       "      <th>1</th>\n",
       "      <td>1981-01-01</td>\n",
       "      <td>2.90</td>\n",
       "      <td>5.454545</td>\n",
       "    </tr>\n",
       "    <tr>\n",
       "      <th>42</th>\n",
       "      <td>2022-01-01</td>\n",
       "      <td>7.25</td>\n",
       "      <td>104.031762</td>\n",
       "    </tr>\n",
       "    <tr>\n",
       "      <th>43</th>\n",
       "      <td>2023-01-01</td>\n",
       "      <td>7.25</td>\n",
       "      <td>104.031762</td>\n",
       "    </tr>\n",
       "  </tbody>\n",
       "</table>\n",
       "</div>"
      ],
      "text/plain": [
       "         date  value     changed\n",
       "0  1980-01-01   2.75    0.000000\n",
       "1  1981-01-01   2.90    5.454545\n",
       "42 2022-01-01   7.25  104.031762\n",
       "43 2023-01-01   7.25  104.031762"
      ]
     },
     "metadata": {},
     "output_type": "display_data"
    },
    {
     "name": "stdout",
     "output_type": "stream",
     "text": [
      "cpi df\n"
     ]
    },
    {
     "data": {
      "text/html": [
       "<div>\n",
       "<style scoped>\n",
       "    .dataframe tbody tr th:only-of-type {\n",
       "        vertical-align: middle;\n",
       "    }\n",
       "\n",
       "    .dataframe tbody tr th {\n",
       "        vertical-align: top;\n",
       "    }\n",
       "\n",
       "    .dataframe thead th {\n",
       "        text-align: right;\n",
       "    }\n",
       "</style>\n",
       "<table border=\"1\" class=\"dataframe\">\n",
       "  <thead>\n",
       "    <tr style=\"text-align: right;\">\n",
       "      <th></th>\n",
       "      <th>date</th>\n",
       "      <th>value</th>\n",
       "      <th>changed</th>\n",
       "    </tr>\n",
       "  </thead>\n",
       "  <tbody>\n",
       "    <tr>\n",
       "      <th>0</th>\n",
       "      <td>1980-01-01</td>\n",
       "      <td>77.800</td>\n",
       "      <td>0.000000</td>\n",
       "    </tr>\n",
       "    <tr>\n",
       "      <th>1</th>\n",
       "      <td>1980-02-01</td>\n",
       "      <td>78.400</td>\n",
       "      <td>0.771208</td>\n",
       "    </tr>\n",
       "    <tr>\n",
       "      <th>526</th>\n",
       "      <td>2023-11-01</td>\n",
       "      <td>408.838</td>\n",
       "      <td>166.273353</td>\n",
       "    </tr>\n",
       "    <tr>\n",
       "      <th>527</th>\n",
       "      <td>2023-12-01</td>\n",
       "      <td>410.606</td>\n",
       "      <td>166.705799</td>\n",
       "    </tr>\n",
       "  </tbody>\n",
       "</table>\n",
       "</div>"
      ],
      "text/plain": [
       "          date    value     changed\n",
       "0   1980-01-01   77.800    0.000000\n",
       "1   1980-02-01   78.400    0.771208\n",
       "526 2023-11-01  408.838  166.273353\n",
       "527 2023-12-01  410.606  166.705799"
      ]
     },
     "metadata": {},
     "output_type": "display_data"
    },
    {
     "name": "stdout",
     "output_type": "stream",
     "text": [
      "mortgage df\n"
     ]
    },
    {
     "data": {
      "text/html": [
       "<div>\n",
       "<style scoped>\n",
       "    .dataframe tbody tr th:only-of-type {\n",
       "        vertical-align: middle;\n",
       "    }\n",
       "\n",
       "    .dataframe tbody tr th {\n",
       "        vertical-align: top;\n",
       "    }\n",
       "\n",
       "    .dataframe thead th {\n",
       "        text-align: right;\n",
       "    }\n",
       "</style>\n",
       "<table border=\"1\" class=\"dataframe\">\n",
       "  <thead>\n",
       "    <tr style=\"text-align: right;\">\n",
       "      <th></th>\n",
       "      <th>date</th>\n",
       "      <th>value</th>\n",
       "      <th>changed</th>\n",
       "    </tr>\n",
       "  </thead>\n",
       "  <tbody>\n",
       "    <tr>\n",
       "      <th>0</th>\n",
       "      <td>1980-01-04</td>\n",
       "      <td>12.85</td>\n",
       "      <td>0.000000</td>\n",
       "    </tr>\n",
       "    <tr>\n",
       "      <th>1</th>\n",
       "      <td>1980-01-11</td>\n",
       "      <td>12.90</td>\n",
       "      <td>0.389105</td>\n",
       "    </tr>\n",
       "    <tr>\n",
       "      <th>2294</th>\n",
       "      <td>2023-12-21</td>\n",
       "      <td>6.67</td>\n",
       "      <td>-33.549599</td>\n",
       "    </tr>\n",
       "    <tr>\n",
       "      <th>2295</th>\n",
       "      <td>2023-12-28</td>\n",
       "      <td>6.61</td>\n",
       "      <td>-34.449149</td>\n",
       "    </tr>\n",
       "  </tbody>\n",
       "</table>\n",
       "</div>"
      ],
      "text/plain": [
       "           date  value    changed\n",
       "0    1980-01-04  12.85   0.000000\n",
       "1    1980-01-11  12.90   0.389105\n",
       "2294 2023-12-21   6.67 -33.549599\n",
       "2295 2023-12-28   6.61 -34.449149"
      ]
     },
     "metadata": {},
     "output_type": "display_data"
    },
    {
     "name": "stdout",
     "output_type": "stream",
     "text": [
      "population df\n"
     ]
    },
    {
     "data": {
      "text/html": [
       "<div>\n",
       "<style scoped>\n",
       "    .dataframe tbody tr th:only-of-type {\n",
       "        vertical-align: middle;\n",
       "    }\n",
       "\n",
       "    .dataframe tbody tr th {\n",
       "        vertical-align: top;\n",
       "    }\n",
       "\n",
       "    .dataframe thead th {\n",
       "        text-align: right;\n",
       "    }\n",
       "</style>\n",
       "<table border=\"1\" class=\"dataframe\">\n",
       "  <thead>\n",
       "    <tr style=\"text-align: right;\">\n",
       "      <th></th>\n",
       "      <th>date</th>\n",
       "      <th>value</th>\n",
       "      <th>changed</th>\n",
       "    </tr>\n",
       "  </thead>\n",
       "  <tbody>\n",
       "    <tr>\n",
       "      <th>0</th>\n",
       "      <td>1980-01-01</td>\n",
       "      <td>5898.980</td>\n",
       "      <td>0.000000</td>\n",
       "    </tr>\n",
       "    <tr>\n",
       "      <th>1</th>\n",
       "      <td>1981-01-01</td>\n",
       "      <td>5956.653</td>\n",
       "      <td>0.977677</td>\n",
       "    </tr>\n",
       "    <tr>\n",
       "      <th>42</th>\n",
       "      <td>2022-01-01</td>\n",
       "      <td>10695.965</td>\n",
       "      <td>60.060587</td>\n",
       "    </tr>\n",
       "    <tr>\n",
       "      <th>43</th>\n",
       "      <td>2023-01-01</td>\n",
       "      <td>10835.491</td>\n",
       "      <td>61.365060</td>\n",
       "    </tr>\n",
       "  </tbody>\n",
       "</table>\n",
       "</div>"
      ],
      "text/plain": [
       "         date      value    changed\n",
       "0  1980-01-01   5898.980   0.000000\n",
       "1  1981-01-01   5956.653   0.977677\n",
       "42 2022-01-01  10695.965  60.060587\n",
       "43 2023-01-01  10835.491  61.365060"
      ]
     },
     "metadata": {},
     "output_type": "display_data"
    }
   ],
   "source": [
    "# Display the DataFrames first 2 and last 2 rows\n",
    "for key, value in data_dict.items():\n",
    "    clean_key = key.replace(\"_\", \" \")\n",
    "    print(clean_key)\n",
    "    display(pd.concat([value.head(2), value.tail(2)]))"
   ]
  },
  {
   "cell_type": "markdown",
   "metadata": {},
   "source": [
    "# Plot the changed column for all of the datasets\n",
    "## Shows how much the data has changed overtime"
   ]
  },
  {
   "cell_type": "code",
   "execution_count": 7,
   "metadata": {},
   "outputs": [
    {
     "data": {
      "image/png": "[encoded data removed]",
      "text/plain": [
       "<Figure size 1000x600 with 1 Axes>"
      ]
     },
     "metadata": {},
     "output_type": "display_data"
    }
   ],
   "source": [
    "# Creating a visualization for income data\n",
    "# Assuming df_income, df_house, and df_min_wage are your DataFrames\n",
    "plt.figure(figsize=(10, 6))\n",
    "\n",
    "# Plot each DataFrame\n",
    "for key, value in data_dict.items():\n",
    "    plt.plot(value['date'], value['changed'], label=f'{key.replace(\"_df\", \"\").title()} Data')\n",
    "\n",
    "plt.title(\"Change Over Time\")\n",
    "plt.ylabel(\"Percent of Change\")\n",
    "plt.xlabel(\"Date\")\n",
    "plt.legend()\n",
    "plt.yticks(range(-200, 250, 25))\n",
    "plt.grid()\n",
    "plt.savefig('graphs/change_over_time.png')\n",
    "plt.show()\n"
   ]
  },
  {
   "cell_type": "markdown",
   "metadata": {},
   "source": [
    "# House Price Affordability Index\n",
    "- Goal: Create an index that tracks housing affordability over time.\n",
    "- Graph Type: Composite Line Chart\n",
    "- Description: Plot a line chart where you calculate an affordability index based on the ratio of income to house prices. You can overlay this with mortgage rates to see how they impact affordability.\n",
    "- Use Case: This index will highlight periods where housing became more or less affordable relative to income."
   ]
  },
  {
   "cell_type": "code",
   "execution_count": null,
   "metadata": {},
   "outputs": [],
   "source": []
  },
  {
   "cell_type": "markdown",
   "metadata": {},
   "source": [
    "# Trend Analysis\n",
    "- Goal: Examine the trends in each of the economic indicators over time.\n",
    "- Graph Type: Line Chart\n",
    "- Description: Plot each indicator on a line chart to visualize how they have changed over time. You can create separate line charts for each indicator or overlay them on the same chart to compare trends.\n",
    "- Use Case: This is useful to identify periods of significant growth, decline, or stability in the data.\n"
   ]
  },
  {
   "cell_type": "code",
   "execution_count": null,
   "metadata": {},
   "outputs": [],
   "source": []
  },
  {
   "cell_type": "markdown",
   "metadata": {},
   "source": [
    "# Correlation Analysis\n",
    "- Goal: Investigate relationships between different economic indicators.\n",
    "- Graph Type: Correlation Matrix / Heatmap\n",
    "- Description: Create a heatmap that shows the correlation coefficients between different pairs of indicators (e.g., income vs. house prices, minimum wage vs. CPI). This will help identify any strong positive or negative correlations.\n",
    "- Use Case: Useful for understanding the degree to which one variable might influence another."
   ]
  },
  {
   "cell_type": "code",
   "execution_count": null,
   "metadata": {},
   "outputs": [],
   "source": []
  },
  {
   "cell_type": "markdown",
   "metadata": {},
   "source": [
    "# Minimum Wage and CPI\n",
    "- Goal: Examine the relationship between minimum wage changes and inflation (CPI).\n",
    "- Graph Type: Overlay Line Charts\n",
    "- Description: Overlay the minimum wage and CPI line charts to see if minimum wage increases have kept pace with inflation.\n",
    "- Use Case: Important for discussions about the real value of the minimum wage over time.\n"
   ]
  },
  {
   "cell_type": "code",
   "execution_count": null,
   "metadata": {},
   "outputs": [],
   "source": []
  },
  {
   "cell_type": "markdown",
   "metadata": {},
   "source": [
    "# Mortgage Rates and Housing Market Analysis\n",
    "- Goal: Analyze the impact of mortgage rates on house prices and affordability.\n",
    "- Graph Type: Line Chart with Dual Y-Axis\n",
    "- Description: Plot mortgage rates on one axis and house prices on another to explore the relationship between the two.\n",
    "- Use Case: This can help in understanding how mortgage rates influence housing market dynamics.\n"
   ]
  },
  {
   "cell_type": "code",
   "execution_count": null,
   "metadata": {},
   "outputs": [],
   "source": []
  },
  {
   "cell_type": "markdown",
   "metadata": {},
   "source": [
    "# Population Growth vs. Economic Indicators\n",
    "- Goal: Explore how population growth correlates with economic indicators like income, house prices, and minimum wage.\n",
    "- Graph Type: Scatter Plot with Trend Line\n",
    "- Description: Create scatter plots that compare population growth to changes in other indicators, with trend lines to show the relationship direction and strength.\n",
    "- Use Case: This can reveal how population dynamics may drive or lag behind economic"
   ]
  }
 ],
 "metadata": {
  "kernelspec": {
   "display_name": "Python 3",
   "language": "python",
   "name": "python3"
  },
  "language_info": {
   "codemirror_mode": {
    "name": "ipython",
    "version": 3
   },
   "file_extension": ".py",
   "mimetype": "text/x-python",
   "name": "python",
   "nbconvert_exporter": "python",
   "pygments_lexer": "ipython3",
   "version": "3.11.3"
  }
 },
 "nbformat": 4,
 "nbformat_minor": 2
}
